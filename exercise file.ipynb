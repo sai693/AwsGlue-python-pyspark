{
  "nbformat": 4,
  "nbformat_minor": 0,
  "metadata": {
    "colab": {
      "name": "Copy of Untitled1.ipynb",
      "provenance": [],
      "collapsed_sections": []
    },
    "kernelspec": {
      "name": "python3",
      "display_name": "Python 3"
    }
  },
  "cells": [
    {
      "cell_type": "markdown",
      "metadata": {
        "id": "UxbKLK5AoRJC",
        "colab_type": "text"
      },
      "source": [
        "# Getting started with Py Spark \n",
        "\n",
        "\n",
        "Hello! I’m Soumil Nitin Shah, a Software and Hardware Developer based in New York City. I have completed by Bachelor in Electronic Engineering and my Double master’s in Computer and Electrical Engineering. I Develop Python Based Cross Platform Desktop Application , Webpages , Software, REST API, Database and much more I have more than 2 Years of Experience in Python. i love to program and teach people about new technolgy"
      ]
    },
    {
      "cell_type": "markdown",
      "metadata": {
        "id": "ArYbfvuSrXMS",
        "colab_type": "text"
      },
      "source": [
        "Spark SQL is a Spark module placed above Spark Core. It is available since Spark 1.3(2015).\n",
        "\n",
        "● It is used to perform processing on structured data called dataframes.\n",
        "\n",
        "● As such, it performs operations with a level of abstraction and simplicity more advanced\n",
        "\n",
        "than on RDDs, including:\n",
        "\n",
        "○ the exploitation of data on these dataframe objects.\n",
        "\n",
        "○ The use and execution of SQL queries.\n",
        "\n",
        "○ More advanced optimizations.\n",
        "\n",
        "● This is the most used part of Spark nowadays.\n"
      ]
    },
    {
      "cell_type": "markdown",
      "metadata": {
        "id": "1_s6yDSRpGtD",
        "colab_type": "text"
      },
      "source": [
        "## Step 1: Installing Py Spark\n",
        "\n",
        "* pip install pyspark"
      ]
    },
    {
      "cell_type": "code",
      "metadata": {
        "id": "GIC6WQ0zpCYA",
        "colab_type": "code",
        "colab": {
          "base_uri": "https://localhost:8080/",
          "height": 52
        },
        "outputId": "2e880fde-ad53-49ad-ce7c-3cd05436973a"
      },
      "source": [
        "! pip install pyspark"
      ],
      "execution_count": 1,
      "outputs": [
        {
          "output_type": "stream",
          "text": [
            "Requirement already satisfied: pyspark in /usr/local/lib/python3.6/dist-packages (2.4.5)\n",
            "Requirement already satisfied: py4j==0.10.7 in /usr/local/lib/python3.6/dist-packages (from pyspark) (0.10.7)\n"
          ],
          "name": "stdout"
        }
      ]
    },
    {
      "cell_type": "code",
      "metadata": {
        "id": "zgUObjMloFT2",
        "colab_type": "code",
        "colab": {}
      },
      "source": [
        "try:\n",
        "  import pandas as pd\n",
        "  from pyspark.sql import SparkSession\n",
        "except Exception as e:\n",
        "  print(e)"
      ],
      "execution_count": 0,
      "outputs": []
    },
    {
      "cell_type": "code",
      "metadata": {
        "id": "2CXv4VmRo7vm",
        "colab_type": "code",
        "colab": {}
      },
      "source": [
        "spark = SparkSession.builder\\\n",
        ".appName(\"MyProcess\")\\\n",
        ".master(\"local[*]\")\\\n",
        ".getOrCreate()"
      ],
      "execution_count": 0,
      "outputs": []
    },
    {
      "cell_type": "code",
      "metadata": {
        "id": "eJSD4Qs8qKuG",
        "colab_type": "code",
        "colab": {
          "base_uri": "https://localhost:8080/",
          "height": 219
        },
        "outputId": "c4e906f2-dff3-439b-e500-338052e11030"
      },
      "source": [
        "spark"
      ],
      "execution_count": 4,
      "outputs": [
        {
          "output_type": "execute_result",
          "data": {
            "text/html": [
              "\n",
              "            <div>\n",
              "                <p><b>SparkSession - in-memory</b></p>\n",
              "                \n",
              "        <div>\n",
              "            <p><b>SparkContext</b></p>\n",
              "\n",
              "            <p><a href=\"http://64c7d0f14e70:4040\">Spark UI</a></p>\n",
              "\n",
              "            <dl>\n",
              "              <dt>Version</dt>\n",
              "                <dd><code>v2.4.5</code></dd>\n",
              "              <dt>Master</dt>\n",
              "                <dd><code>local[*]</code></dd>\n",
              "              <dt>AppName</dt>\n",
              "                <dd><code>MyProcess</code></dd>\n",
              "            </dl>\n",
              "        </div>\n",
              "        \n",
              "            </div>\n",
              "        "
            ],
            "text/plain": [
              "<pyspark.sql.session.SparkSession at 0x7f40efcbd710>"
            ]
          },
          "metadata": {
            "tags": []
          },
          "execution_count": 4
        }
      ]
    },
    {
      "cell_type": "code",
      "metadata": {
        "id": "Hpk7v80cqOLE",
        "colab_type": "code",
        "colab": {}
      },
      "source": [
        ""
      ],
      "execution_count": 0,
      "outputs": []
    },
    {
      "cell_type": "markdown",
      "metadata": {
        "id": "r6J7SYqBqdFa",
        "colab_type": "text"
      },
      "source": [
        "# Step 2: Understanding DataFrames in PySparks\n",
        "There are four ways to create dataframes with Spark SQL:\n",
        "● Programmatically: From a list of values, a list of tuples or from a dictionary.\n",
        "\n",
        "● From a Pandas dataframe: (only valid with the Python API).\n",
        "\n",
        "● From a Spark RDD: by defining the structure of the data.\n",
        "\n",
        "● From data sources: Spark SQL supports reading external files through different methods.\n",
        "\n",
        "* JSON file (spark.read.json(\"...\") method - every line should be a full JSON document)\n",
        "*  Parquet file (spark.read.parquet(\"...\") method)\n",
        "* Other kind of files/data sources by using the method\n",
        "spark.read.format(\"...\")...load(\"...\")\n"
      ]
    },
    {
      "cell_type": "code",
      "metadata": {
        "id": "WmnvVkjzql5o",
        "colab_type": "code",
        "colab": {
          "base_uri": "https://localhost:8080/",
          "height": 208
        },
        "outputId": "6b36636d-d824-47c0-a420-2ac2543a044e"
      },
      "source": [
        "header = [\"city\", \"type\", \"price\"]\n",
        "\n",
        "data = map(lambda r: (r[0], r[1], float(r[2])),\n",
        "map(lambda x: x.split(\",\"),\n",
        "[\"Paris,Food,19.00\", \"Marseille,Clothing,12.00\",\n",
        "\"Paris,Food,8.00\", \"Paris,Clothing,15.00\",\n",
        "\"Marseille,Food,20.00\", \"Lyon,Book,10.00\"]))\n",
        "\n",
        "df = spark.createDataFrame(data, header)\n",
        "df.show()"
      ],
      "execution_count": 5,
      "outputs": [
        {
          "output_type": "stream",
          "text": [
            "+---------+--------+-----+\n",
            "|     city|    type|price|\n",
            "+---------+--------+-----+\n",
            "|    Paris|    Food| 19.0|\n",
            "|Marseille|Clothing| 12.0|\n",
            "|    Paris|    Food|  8.0|\n",
            "|    Paris|Clothing| 15.0|\n",
            "|Marseille|    Food| 20.0|\n",
            "|     Lyon|    Book| 10.0|\n",
            "+---------+--------+-----+\n",
            "\n"
          ],
          "name": "stdout"
        }
      ]
    },
    {
      "cell_type": "code",
      "metadata": {
        "id": "exlrj4e5q4Ph",
        "colab_type": "code",
        "colab": {
          "base_uri": "https://localhost:8080/",
          "height": 52
        },
        "outputId": "9f7ac601-bf89-49bb-e3f6-ebc1b0a7e5dc"
      },
      "source": [
        "df.take(2)"
      ],
      "execution_count": 6,
      "outputs": [
        {
          "output_type": "execute_result",
          "data": {
            "text/plain": [
              "[Row(city='Paris', type='Food', price=19.0),\n",
              " Row(city='Marseille', type='Clothing', price=12.0)]"
            ]
          },
          "metadata": {
            "tags": []
          },
          "execution_count": 6
        }
      ]
    },
    {
      "cell_type": "code",
      "metadata": {
        "id": "P3YBG3MPz5uQ",
        "colab_type": "code",
        "colab": {
          "base_uri": "https://localhost:8080/",
          "height": 104
        },
        "outputId": "fd780a5c-1dca-4282-b60e-d8988ec8e3f9"
      },
      "source": [
        "df.printSchema()"
      ],
      "execution_count": 7,
      "outputs": [
        {
          "output_type": "stream",
          "text": [
            "root\n",
            " |-- city: string (nullable = true)\n",
            " |-- type: string (nullable = true)\n",
            " |-- price: double (nullable = true)\n",
            "\n"
          ],
          "name": "stdout"
        }
      ]
    },
    {
      "cell_type": "code",
      "metadata": {
        "id": "zGPkmiHX0DfK",
        "colab_type": "code",
        "colab": {
          "base_uri": "https://localhost:8080/",
          "height": 35
        },
        "outputId": "c761616e-0cd3-4595-bbb8-d1ff04d43c73"
      },
      "source": [
        "df"
      ],
      "execution_count": 8,
      "outputs": [
        {
          "output_type": "execute_result",
          "data": {
            "text/plain": [
              "DataFrame[city: string, type: string, price: double]"
            ]
          },
          "metadata": {
            "tags": []
          },
          "execution_count": 8
        }
      ]
    },
    {
      "cell_type": "code",
      "metadata": {
        "id": "yglnDT900BwN",
        "colab_type": "code",
        "colab": {
          "base_uri": "https://localhost:8080/",
          "height": 35
        },
        "outputId": "d80740f6-9d2c-4aef-af03-eff73a281777"
      },
      "source": [
        "df.dtypes"
      ],
      "execution_count": 9,
      "outputs": [
        {
          "output_type": "execute_result",
          "data": {
            "text/plain": [
              "[('city', 'string'), ('type', 'string'), ('price', 'double')]"
            ]
          },
          "metadata": {
            "tags": []
          },
          "execution_count": 9
        }
      ]
    },
    {
      "cell_type": "code",
      "metadata": {
        "id": "nt5ZDAAD0jCi",
        "colab_type": "code",
        "colab": {
          "base_uri": "https://localhost:8080/",
          "height": 52
        },
        "outputId": "67bc070f-f727-4af1-ca84-de44e0a1f962"
      },
      "source": [
        "df.explain() "
      ],
      "execution_count": 10,
      "outputs": [
        {
          "output_type": "stream",
          "text": [
            "== Physical Plan ==\n",
            "Scan ExistingRDD[city#0,type#1,price#2]\n"
          ],
          "name": "stdout"
        }
      ]
    },
    {
      "cell_type": "code",
      "metadata": {
        "id": "g69Dv1Rn1QUp",
        "colab_type": "code",
        "colab": {
          "base_uri": "https://localhost:8080/",
          "height": 208
        },
        "outputId": "3746a6b3-5815-4e4a-cab5-11c4f7c57c08"
      },
      "source": [
        "df.select(\"city\").show()"
      ],
      "execution_count": 11,
      "outputs": [
        {
          "output_type": "stream",
          "text": [
            "+---------+\n",
            "|     city|\n",
            "+---------+\n",
            "|    Paris|\n",
            "|Marseille|\n",
            "|    Paris|\n",
            "|    Paris|\n",
            "|Marseille|\n",
            "|     Lyon|\n",
            "+---------+\n",
            "\n"
          ],
          "name": "stdout"
        }
      ]
    },
    {
      "cell_type": "code",
      "metadata": {
        "id": "mE_HBmJL1ozz",
        "colab_type": "code",
        "colab": {
          "base_uri": "https://localhost:8080/",
          "height": 208
        },
        "outputId": "2d99b78e-518f-454f-8228-ea10fcdec4d1"
      },
      "source": [
        "df.select([\"city\", \"type\"]).show()"
      ],
      "execution_count": 12,
      "outputs": [
        {
          "output_type": "stream",
          "text": [
            "+---------+--------+\n",
            "|     city|    type|\n",
            "+---------+--------+\n",
            "|    Paris|    Food|\n",
            "|Marseille|Clothing|\n",
            "|    Paris|    Food|\n",
            "|    Paris|Clothing|\n",
            "|Marseille|    Food|\n",
            "|     Lyon|    Book|\n",
            "+---------+--------+\n",
            "\n"
          ],
          "name": "stdout"
        }
      ]
    },
    {
      "cell_type": "code",
      "metadata": {
        "id": "RhC72oSo1x2t",
        "colab_type": "code",
        "colab": {
          "base_uri": "https://localhost:8080/",
          "height": 69
        },
        "outputId": "5cdf4b38-ab16-4080-fbd7-3494a37d8f45"
      },
      "source": [
        "df.select([\"city\", \"price\"]).take(3)"
      ],
      "execution_count": 13,
      "outputs": [
        {
          "output_type": "execute_result",
          "data": {
            "text/plain": [
              "[Row(city='Paris', price=19.0),\n",
              " Row(city='Marseille', price=12.0),\n",
              " Row(city='Paris', price=8.0)]"
            ]
          },
          "metadata": {
            "tags": []
          },
          "execution_count": 13
        }
      ]
    },
    {
      "cell_type": "markdown",
      "metadata": {
        "id": "Kvmjmn1A2znR",
        "colab_type": "text"
      },
      "source": [
        "# Step 3: basic Manipulation :Schema\n"
      ]
    },
    {
      "cell_type": "code",
      "metadata": {
        "id": "kxWupWuE2YCg",
        "colab_type": "code",
        "colab": {}
      },
      "source": [
        "from pyspark.sql.types import StringType, FloatType, StructType, StructField"
      ],
      "execution_count": 0,
      "outputs": []
    },
    {
      "cell_type": "code",
      "metadata": {
        "id": "SDT6v1jM3DGY",
        "colab_type": "code",
        "colab": {}
      },
      "source": [
        "data = map(lambda r: (r[0], r[1], float(r[2])),\n",
        "map(lambda x: x.split(\",\"),[\"Paris,Food,19.00\", \"Marseille,Clothing,12.00\",\n",
        "\"Paris,Food,8.00\", \"Paris,Clothing,15.00\",\n",
        "\"Marseille,Food,20.00\", \"Lyon,Book,10.00\"]))"
      ],
      "execution_count": 0,
      "outputs": []
    },
    {
      "cell_type": "code",
      "metadata": {
        "id": "KO_Vp0xS3OYJ",
        "colab_type": "code",
        "colab": {}
      },
      "source": [
        "schema = StructType([\n",
        "                     StructField(\"city\", StringType(), nullable=True),\n",
        "                     StructField(\"type\", StringType(), nullable=True),\n",
        "                     StructField(\"price\", FloatType(), nullable=True)\n",
        "])\n"
      ],
      "execution_count": 0,
      "outputs": []
    },
    {
      "cell_type": "code",
      "metadata": {
        "id": "ZPHi_wBb3vyT",
        "colab_type": "code",
        "colab": {}
      },
      "source": [
        "df = spark.createDataFrame(\n",
        "    data,\n",
        "    schema=schema\n",
        ")"
      ],
      "execution_count": 0,
      "outputs": []
    },
    {
      "cell_type": "code",
      "metadata": {
        "id": "Px9sU28p33NM",
        "colab_type": "code",
        "colab": {
          "base_uri": "https://localhost:8080/",
          "height": 208
        },
        "outputId": "7989caaf-992d-476d-9f1a-7078c1a00969"
      },
      "source": [
        "df.show()"
      ],
      "execution_count": 34,
      "outputs": [
        {
          "output_type": "stream",
          "text": [
            "+---------+--------+-----+\n",
            "|     city|    type|price|\n",
            "+---------+--------+-----+\n",
            "|    Paris|    Food| 19.0|\n",
            "|Marseille|Clothing| 12.0|\n",
            "|    Paris|    Food|  8.0|\n",
            "|    Paris|Clothing| 15.0|\n",
            "|Marseille|    Food| 20.0|\n",
            "|     Lyon|    Book| 10.0|\n",
            "+---------+--------+-----+\n",
            "\n"
          ],
          "name": "stdout"
        }
      ]
    },
    {
      "cell_type": "markdown",
      "metadata": {
        "id": "d4Leyj3QpX9S",
        "colab_type": "text"
      },
      "source": [
        "# Part 4: \n",
        "* lets learn about Filter and other function in PySpark"
      ]
    },
    {
      "cell_type": "code",
      "metadata": {
        "id": "0TbzYwvIpdt5",
        "colab_type": "code",
        "colab": {
          "base_uri": "https://localhost:8080/",
          "height": 156
        },
        "outputId": "f9a7459a-9109-41f3-d4dd-f81bffca221d"
      },
      "source": [
        "df.filter(df.city == \"Paris\").show()"
      ],
      "execution_count": 35,
      "outputs": [
        {
          "output_type": "stream",
          "text": [
            "+-----+--------+-----+\n",
            "| city|    type|price|\n",
            "+-----+--------+-----+\n",
            "|Paris|    Food| 19.0|\n",
            "|Paris|    Food|  8.0|\n",
            "|Paris|Clothing| 15.0|\n",
            "+-----+--------+-----+\n",
            "\n"
          ],
          "name": "stdout"
        }
      ]
    },
    {
      "cell_type": "code",
      "metadata": {
        "id": "6WmnNh23q0hA",
        "colab_type": "code",
        "colab": {
          "base_uri": "https://localhost:8080/",
          "height": 139
        },
        "outputId": "ab1d1587-a938-4e70-ad40-059f392b260a"
      },
      "source": [
        "df.filter(df.type == \"Food\").filter(df.city == \"Paris\").show()"
      ],
      "execution_count": 36,
      "outputs": [
        {
          "output_type": "stream",
          "text": [
            "+-----+----+-----+\n",
            "| city|type|price|\n",
            "+-----+----+-----+\n",
            "|Paris|Food| 19.0|\n",
            "|Paris|Food|  8.0|\n",
            "+-----+----+-----+\n",
            "\n"
          ],
          "name": "stdout"
        }
      ]
    },
    {
      "cell_type": "code",
      "metadata": {
        "id": "AOrJQA6BqzuU",
        "colab_type": "code",
        "colab": {
          "base_uri": "https://localhost:8080/",
          "height": 139
        },
        "outputId": "c6d192f7-cc1b-4751-842f-614b2121fbab"
      },
      "source": [
        "df.filter(\n",
        "    (df.city == \"Paris\") & (df.type == \"Food\")\n",
        "\n",
        ").show()"
      ],
      "execution_count": 37,
      "outputs": [
        {
          "output_type": "stream",
          "text": [
            "+-----+----+-----+\n",
            "| city|type|price|\n",
            "+-----+----+-----+\n",
            "|Paris|Food| 19.0|\n",
            "|Paris|Food|  8.0|\n",
            "+-----+----+-----+\n",
            "\n"
          ],
          "name": "stdout"
        }
      ]
    },
    {
      "cell_type": "code",
      "metadata": {
        "id": "4lXkg0TNq0A9",
        "colab_type": "code",
        "colab": {}
      },
      "source": [
        ""
      ],
      "execution_count": 0,
      "outputs": []
    },
    {
      "cell_type": "markdown",
      "metadata": {
        "id": "paWc8UK9ucOG",
        "colab_type": "text"
      },
      "source": [
        "# Part 5:\n",
        "* lets learn about orderBy Statments "
      ]
    },
    {
      "cell_type": "code",
      "metadata": {
        "id": "63CQ0hiUqxBh",
        "colab_type": "code",
        "colab": {
          "base_uri": "https://localhost:8080/",
          "height": 208
        },
        "outputId": "3a213eac-fe9c-4df7-e5de-9b172e21f5d9"
      },
      "source": [
        "df.show()"
      ],
      "execution_count": 38,
      "outputs": [
        {
          "output_type": "stream",
          "text": [
            "+---------+--------+-----+\n",
            "|     city|    type|price|\n",
            "+---------+--------+-----+\n",
            "|    Paris|    Food| 19.0|\n",
            "|Marseille|Clothing| 12.0|\n",
            "|    Paris|    Food|  8.0|\n",
            "|    Paris|Clothing| 15.0|\n",
            "|Marseille|    Food| 20.0|\n",
            "|     Lyon|    Book| 10.0|\n",
            "+---------+--------+-----+\n",
            "\n"
          ],
          "name": "stdout"
        }
      ]
    },
    {
      "cell_type": "code",
      "metadata": {
        "id": "cgYujiqSuoCY",
        "colab_type": "code",
        "colab": {
          "base_uri": "https://localhost:8080/",
          "height": 208
        },
        "outputId": "e4c6336d-a9f3-4985-988a-fbaad7c8d653"
      },
      "source": [
        "df.orderBy(df.city).show()"
      ],
      "execution_count": 39,
      "outputs": [
        {
          "output_type": "stream",
          "text": [
            "+---------+--------+-----+\n",
            "|     city|    type|price|\n",
            "+---------+--------+-----+\n",
            "|     Lyon|    Book| 10.0|\n",
            "|Marseille|Clothing| 12.0|\n",
            "|Marseille|    Food| 20.0|\n",
            "|    Paris|    Food| 19.0|\n",
            "|    Paris|Clothing| 15.0|\n",
            "|    Paris|    Food|  8.0|\n",
            "+---------+--------+-----+\n",
            "\n"
          ],
          "name": "stdout"
        }
      ]
    },
    {
      "cell_type": "code",
      "metadata": {
        "id": "cf-Az5SbunIr",
        "colab_type": "code",
        "colab": {
          "base_uri": "https://localhost:8080/",
          "height": 208
        },
        "outputId": "ebdf354f-a337-4f3d-e5f3-76d136497754"
      },
      "source": [
        "df.orderBy(df.city).orderBy(df.type).show()"
      ],
      "execution_count": 40,
      "outputs": [
        {
          "output_type": "stream",
          "text": [
            "+---------+--------+-----+\n",
            "|     city|    type|price|\n",
            "+---------+--------+-----+\n",
            "|     Lyon|    Book| 10.0|\n",
            "|Marseille|Clothing| 12.0|\n",
            "|    Paris|Clothing| 15.0|\n",
            "|    Paris|    Food| 19.0|\n",
            "|Marseille|    Food| 20.0|\n",
            "|    Paris|    Food|  8.0|\n",
            "+---------+--------+-----+\n",
            "\n"
          ],
          "name": "stdout"
        }
      ]
    },
    {
      "cell_type": "markdown",
      "metadata": {
        "id": "R6twMqT2v_Ts",
        "colab_type": "text"
      },
      "source": [
        "# Part 6 Manipulating Columns with Py Spark "
      ]
    },
    {
      "cell_type": "code",
      "metadata": {
        "id": "7BNrKFzYwDe9",
        "colab_type": "code",
        "colab": {
          "base_uri": "https://localhost:8080/",
          "height": 208
        },
        "outputId": "8fdc6770-a680-40fb-8b8d-e26c65656716"
      },
      "source": [
        "from pyspark.sql.functions import lit,rand\n",
        "df = df.withColumn(\"six\", lit(6))\n",
        "df.show()"
      ],
      "execution_count": 41,
      "outputs": [
        {
          "output_type": "stream",
          "text": [
            "+---------+--------+-----+---+\n",
            "|     city|    type|price|six|\n",
            "+---------+--------+-----+---+\n",
            "|    Paris|    Food| 19.0|  6|\n",
            "|Marseille|Clothing| 12.0|  6|\n",
            "|    Paris|    Food|  8.0|  6|\n",
            "|    Paris|Clothing| 15.0|  6|\n",
            "|Marseille|    Food| 20.0|  6|\n",
            "|     Lyon|    Book| 10.0|  6|\n",
            "+---------+--------+-----+---+\n",
            "\n"
          ],
          "name": "stdout"
        }
      ]
    },
    {
      "cell_type": "code",
      "metadata": {
        "id": "KEwkX2-d3ICZ",
        "colab_type": "code",
        "colab": {
          "base_uri": "https://localhost:8080/",
          "height": 208
        },
        "outputId": "86c50d6c-4c7f-4852-f87c-22c825c64e4d"
      },
      "source": [
        "df.withColumn(\"divide\", df.price / 2 ).show()"
      ],
      "execution_count": 42,
      "outputs": [
        {
          "output_type": "stream",
          "text": [
            "+---------+--------+-----+---+------+\n",
            "|     city|    type|price|six|divide|\n",
            "+---------+--------+-----+---+------+\n",
            "|    Paris|    Food| 19.0|  6|   9.5|\n",
            "|Marseille|Clothing| 12.0|  6|   6.0|\n",
            "|    Paris|    Food|  8.0|  6|   4.0|\n",
            "|    Paris|Clothing| 15.0|  6|   7.5|\n",
            "|Marseille|    Food| 20.0|  6|  10.0|\n",
            "|     Lyon|    Book| 10.0|  6|   5.0|\n",
            "+---------+--------+-----+---+------+\n",
            "\n"
          ],
          "name": "stdout"
        }
      ]
    },
    {
      "cell_type": "code",
      "metadata": {
        "id": "KlMwPZX534Av",
        "colab_type": "code",
        "colab": {
          "base_uri": "https://localhost:8080/",
          "height": 208
        },
        "outputId": "b735bbb2-d8c1-4f52-cabf-f012a49ae382"
      },
      "source": [
        "df.withColumn(\"sum\", df.six + df.six).show()"
      ],
      "execution_count": 43,
      "outputs": [
        {
          "output_type": "stream",
          "text": [
            "+---------+--------+-----+---+---+\n",
            "|     city|    type|price|six|sum|\n",
            "+---------+--------+-----+---+---+\n",
            "|    Paris|    Food| 19.0|  6| 12|\n",
            "|Marseille|Clothing| 12.0|  6| 12|\n",
            "|    Paris|    Food|  8.0|  6| 12|\n",
            "|    Paris|Clothing| 15.0|  6| 12|\n",
            "|Marseille|    Food| 20.0|  6| 12|\n",
            "|     Lyon|    Book| 10.0|  6| 12|\n",
            "+---------+--------+-----+---+---+\n",
            "\n"
          ],
          "name": "stdout"
        }
      ]
    },
    {
      "cell_type": "code",
      "metadata": {
        "id": "NFwwfKysz_8_",
        "colab_type": "code",
        "colab": {
          "base_uri": "https://localhost:8080/",
          "height": 208
        },
        "outputId": "ff42bb5d-af8d-4e5c-8b8f-383666f6c7d4"
      },
      "source": [
        "df.drop(\"six\").show()"
      ],
      "execution_count": 44,
      "outputs": [
        {
          "output_type": "stream",
          "text": [
            "+---------+--------+-----+\n",
            "|     city|    type|price|\n",
            "+---------+--------+-----+\n",
            "|    Paris|    Food| 19.0|\n",
            "|Marseille|Clothing| 12.0|\n",
            "|    Paris|    Food|  8.0|\n",
            "|    Paris|Clothing| 15.0|\n",
            "|Marseille|    Food| 20.0|\n",
            "|     Lyon|    Book| 10.0|\n",
            "+---------+--------+-----+\n",
            "\n"
          ],
          "name": "stdout"
        }
      ]
    },
    {
      "cell_type": "code",
      "metadata": {
        "id": "VzqOY5zHjV9f",
        "colab_type": "code",
        "colab": {}
      },
      "source": [
        ""
      ],
      "execution_count": 0,
      "outputs": []
    },
    {
      "cell_type": "markdown",
      "metadata": {
        "id": "T2Ih7W9VjZTj",
        "colab_type": "text"
      },
      "source": [
        "# Part 7:\n",
        "* Advanced Manipulations\n"
      ]
    },
    {
      "cell_type": "code",
      "metadata": {
        "id": "lmwczfxNjYbw",
        "colab_type": "code",
        "colab": {
          "base_uri": "https://localhost:8080/",
          "height": 347
        },
        "outputId": "b0b3e5de-9066-4149-b7b9-122345e90f11"
      },
      "source": [
        "header = [\"city\", \"type\", \"price\"]\n",
        "\n",
        "data = map(lambda r: (r[0], r[1], float(r[2])),\n",
        "           map(lambda x: x.split(\",\"),\n",
        "               [\"Paris,Food,19.00\", \"Marseille,Clothing,12.00\",\n",
        "                \"Paris,Food,8.00\", \"Paris,Clothing,15.00\",\n",
        "                \"Marseille,Food,20.00\", \"Lyon,Book,10.00\"]))\n",
        "\n",
        "df = spark.createDataFrame(data, header)\n",
        "df.show()\n",
        "\n",
        "from pyspark.sql import Row\n",
        "from pyspark.sql.functions import sum as _sum\n",
        "df.groupBy(\"city\").agg(_sum(\"price\")).show()"
      ],
      "execution_count": 71,
      "outputs": [
        {
          "output_type": "stream",
          "text": [
            "+---------+--------+-----+\n",
            "|     city|    type|price|\n",
            "+---------+--------+-----+\n",
            "|    Paris|    Food| 19.0|\n",
            "|Marseille|Clothing| 12.0|\n",
            "|    Paris|    Food|  8.0|\n",
            "|    Paris|Clothing| 15.0|\n",
            "|Marseille|    Food| 20.0|\n",
            "|     Lyon|    Book| 10.0|\n",
            "+---------+--------+-----+\n",
            "\n",
            "+---------+----------+\n",
            "|     city|sum(price)|\n",
            "+---------+----------+\n",
            "|Marseille|      32.0|\n",
            "|    Paris|      42.0|\n",
            "|     Lyon|      10.0|\n",
            "+---------+----------+\n",
            "\n"
          ],
          "name": "stdout"
        }
      ]
    },
    {
      "cell_type": "code",
      "metadata": {
        "id": "tBRqAyqGmWxx",
        "colab_type": "code",
        "colab": {}
      },
      "source": [
        ""
      ],
      "execution_count": 0,
      "outputs": []
    },
    {
      "cell_type": "markdown",
      "metadata": {
        "id": "ipt2CrO5nHHw",
        "colab_type": "text"
      },
      "source": [
        "# Part 8:\n",
        "* Custom Function"
      ]
    },
    {
      "cell_type": "code",
      "metadata": {
        "id": "WezgOSTAnK3O",
        "colab_type": "code",
        "colab": {
          "base_uri": "https://localhost:8080/",
          "height": 173
        },
        "outputId": "43fb005b-d4d5-4331-8c13-d7e21543b9ea"
      },
      "source": [
        "df = spark.createDataFrame([[1, 2], [2, 3], [3, 4], [4, 5]], [\"x1\", \"x2\"]).show()"
      ],
      "execution_count": 72,
      "outputs": [
        {
          "output_type": "stream",
          "text": [
            "+---+---+\n",
            "| x1| x2|\n",
            "+---+---+\n",
            "|  1|  2|\n",
            "|  2|  3|\n",
            "|  3|  4|\n",
            "|  4|  5|\n",
            "+---+---+\n",
            "\n"
          ],
          "name": "stdout"
        }
      ]
    },
    {
      "cell_type": "code",
      "metadata": {
        "id": "yi9vKYy3nZ3-",
        "colab_type": "code",
        "colab": {}
      },
      "source": [
        ""
      ],
      "execution_count": 0,
      "outputs": []
    },
    {
      "cell_type": "code",
      "metadata": {
        "id": "YpAefOFcnZbw",
        "colab_type": "code",
        "colab": {
          "base_uri": "https://localhost:8080/",
          "height": 121
        },
        "outputId": "8dec73b4-76c1-41b1-9a97-553a6c7cdcb0"
      },
      "source": [
        "\n",
        "from pyspark.sql.functions import udf\n",
        "from pyspark.sql.types import *\n",
        "\n",
        "l = [('Alice', 1)]\n",
        "df = spark.createDataFrame(l)\n",
        "df.show()\n"
      ],
      "execution_count": 97,
      "outputs": [
        {
          "output_type": "stream",
          "text": [
            "+-----+---+\n",
            "|   _1| _2|\n",
            "+-----+---+\n",
            "|Alice|  1|\n",
            "+-----+---+\n",
            "\n"
          ],
          "name": "stdout"
        }
      ]
    },
    {
      "cell_type": "code",
      "metadata": {
        "id": "DrwwZH8Hp1E_",
        "colab_type": "code",
        "colab": {}
      },
      "source": [
        ""
      ],
      "execution_count": 0,
      "outputs": []
    }
  ]
}